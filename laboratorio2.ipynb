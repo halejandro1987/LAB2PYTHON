{
 "cells": [
  {
   "attachments": {},
   "cell_type": "markdown",
   "metadata": {},
   "source": [
    "## Laboratorio 2 "
   ]
  },
  {
   "attachments": {},
   "cell_type": "markdown",
   "metadata": {},
   "source": [
    "#Héctor Alejandro Aragón Matute- IIO- 20001217"
   ]
  },
  {
   "attachments": {},
   "cell_type": "markdown",
   "metadata": {},
   "source": [
    "#Parte #1 - (Programaci´on y Sintaxis): A continuaci´on se le muestran una lista de ejercicios que deber´a completar utilizando Python, debe usar Markdown para indicar donde inicia cada uno de los ejercicios. 1. Haga un programa en Python que reciba de par´ametro un nu´mero de segundos y que despliegue en pantalla, las horas, minutos y segundos que representan. Por ejemplo: Si el nu´mero de segundos recibidos fuera: 2743 entonces su programa deber´ıa desplegar: Horas: 0, Minutos: 45 , Segundos: 43Si el nu´mero de segundos recibidos fuera 5871: Horas: 1, Minutos: 37 , Segundos: 51 Recuerde manejar excepciones y errores que considere necesarios."
   ]
  },
  {
   "cell_type": "code",
   "execution_count": 14,
   "metadata": {},
   "outputs": [
    {
     "name": "stdout",
     "output_type": "stream",
     "text": [
      "Horas: 0, Minutos: 45, Segundos: 43\n",
      "Horas: 1, Minutos: 37, Segundos: 51\n"
     ]
    }
   ],
   "source": [
    "def segundos_a_horas_minutos_segundos(segundos):\n",
    "    try:\n",
    "        # Convertir los segundos a horas, minutos y segundos\n",
    "        horas = segundos // 3600\n",
    "        minutos = (segundos % 3600) // 60\n",
    "        segundos = (segundos % 3600) % 60\n",
    "        # Devolver los resultados como un diccionario\n",
    "        return {\"Horas\": horas, \"Minutos\": minutos, \"Segundos\": segundos}\n",
    "    except TypeError:\n",
    "        # Si el argumento no es un número, mostrar un mensaje de error\n",
    "        print(\"Error: el argumento debe ser un número entero.\")\n",
    "    except:\n",
    "        # Si ocurre cualquier otro tipo de error, mostrar un mensaje genérico\n",
    "        print(\"Error: ha ocurrido un error inesperado.\")\n",
    "    else:\n",
    "        #Si todo está bien\n",
    "        print(\"Todo Ok\")\n",
    "\n",
    "# Ej:\n",
    "segundos = 2743\n",
    "resultado = segundos_a_horas_minutos_segundos(segundos)\n",
    "if resultado:\n",
    "    print(f\"Horas: {resultado['Horas']}, Minutos: {resultado['Minutos']}, Segundos: {resultado['Segundos']}\")\n",
    "\n",
    "segundos = 5871\n",
    "resultado = segundos_a_horas_minutos_segundos(segundos)\n",
    "if resultado:\n",
    "    print(f\"Horas: {resultado['Horas']}, Minutos: {resultado['Minutos']}, Segundos: {resultado['Segundos']}\")\n"
   ]
  },
  {
   "attachments": {},
   "cell_type": "markdown",
   "metadata": {},
   "source": [
    "#Haga una función en Python que dado un numero entre 1 y 20. Y un caracter cualquiera despliegue cuatro patrones triangulares. Por ejemplo si el usuario ingresara el numero 4 y el sımbolo * el programa debera desplegar lo siguiente:"
   ]
  },
  {
   "cell_type": "code",
   "execution_count": 16,
   "metadata": {},
   "outputs": [
    {
     "name": "stdout",
     "output_type": "stream",
     "text": [
      "*\n",
      "**\n",
      "***\n",
      "****\n",
      "*****\n",
      "******\n",
      "\n",
      "******\n",
      "*****\n",
      "****\n",
      "***\n",
      "**\n",
      "*\n",
      "\n",
      "     *\n",
      "    **\n",
      "   ***\n",
      "  ****\n",
      " *****\n",
      "******\n",
      "\n",
      "******\n",
      " *****\n",
      "  ****\n",
      "   ***\n",
      "    **\n",
      "     *\n"
     ]
    }
   ],
   "source": [
    "def patrones_triangulares(numero, caracter):\n",
    "    try:\n",
    "        if numero < 1 or numero > 20:\n",
    "            # Si el número está fuera del rango permitido, mostrar un mensaje de error\n",
    "            print(\"Error: el número debe estar entre 1 y 20.\")\n",
    "        else:\n",
    "            # Patrón 1\n",
    "            for i in range(1, numero+1):\n",
    "                print(caracter*i)\n",
    "            print()\n",
    "            # Patrón 2\n",
    "            for i in range(numero, 0, -1):\n",
    "                print(caracter*i)\n",
    "            print()\n",
    "            # Patrón 3\n",
    "            for i in range(1, numero+1):\n",
    "                print(\" \"*(numero-i) + caracter*i)\n",
    "            print()\n",
    "            # Patrón 4\n",
    "            for i in range(numero, 0, -1):\n",
    "                print(\" \"*(numero-i) + caracter*i)\n",
    "    except TypeError:\n",
    "        # Si alguno de los argumentos no es válido, mostrar un mensaje de error\n",
    "        print(\"Error: los argumentos deben ser un número entre 1 y 20 y un carácter.\")\n",
    "\n",
    "# Ej:\n",
    "patrones_triangulares(6, \"*\")\n"
   ]
  },
  {
   "attachments": {},
   "cell_type": "markdown",
   "metadata": {},
   "source": [
    "#3. Haga un programa en Python que la fecha de nacimiento de una persona (puede ingresar por separado cada valor, es decir pedir primero dıa, luego mes y luego año), despliegue la edad de la persona en años, meses y dıas. Su resultado puede ser aproximado."
   ]
  },
  {
   "cell_type": "code",
   "execution_count": 21,
   "metadata": {},
   "outputs": [
    {
     "name": "stdout",
     "output_type": "stream",
     "text": [
      "Edad: 38 años, 5 meses y 5 días.\n"
     ]
    }
   ],
   "source": [
    "import datetime\n",
    "\n",
    "def añitos(dia, mes, anio):\n",
    "    try:\n",
    "        born = datetime.datetime(anio, mes, dia)\n",
    "        today = datetime.datetime.now()\n",
    "        diferencia = today - born\n",
    "        years = int(diferencia.days / 365.25)\n",
    "        month = int((diferencia.days % 365.25) / 30.44)\n",
    "        days = int(diferencia.days - (years * 365.25) - (month * 30.44))\n",
    "        print(f\"Edad: {years} años, {month} meses y {days} días.\")\n",
    "    except ValueError:\n",
    "        # Si la fecha de nacimiento no es válida, mostrar un mensaje de error\n",
    "        print(\"Error: la fecha de nacimiento no es válida.\")\n",
    "\n",
    "# Ej:\n",
    "añitos(27, 9, 1984)\n"
   ]
  },
  {
   "attachments": {},
   "cell_type": "markdown",
   "metadata": {},
   "source": [
    "#4. Escriba una funci´on en Python que dada una tupla de elementos (nu´meros o letras) esta se convierta a un string. Tomar nota del siguiente ejemplo:\n",
    "Si la entrada fuera: (10, 20, 40, 5, 70) La salida deber´ıa ser: 102040570"
   ]
  },
  {
   "cell_type": "code",
   "execution_count": 23,
   "metadata": {},
   "outputs": [
    {
     "name": "stdout",
     "output_type": "stream",
     "text": [
      "112141671\n"
     ]
    }
   ],
   "source": [
    "def t1(tupla):\n",
    "    # Convertir cada elemento de la tupla a string y concatenarlos\n",
    "    string = ''.join(str(e) for e in tupla)\n",
    "    return string\n",
    "\n",
    "# Ej:\n",
    "tupla = (11, 21, 41, 6, 71)\n",
    "string = t1(tupla)\n",
    "print(string)\n"
   ]
  },
  {
   "attachments": {},
   "cell_type": "markdown",
   "metadata": {},
   "source": [
    "#5. Cree un programa en Python que dada una lista de tuplas, elimine las tuplas que estan vacıas. Tomar nota del siguiente ejemplo:\n",
    "Si la lista fuera: [(), (), (’X’,), (’a’, ’b’), (’a’, ’b’, ’c’), (’d’)]\n",
    "El resultado deber´ıa ser: [(’X’), (’a’, ’b’), (’a’, ’b’, ’c’), ’d’]\n"
   ]
  },
  {
   "cell_type": "code",
   "execution_count": 24,
   "metadata": {},
   "outputs": [
    {
     "name": "stdout",
     "output_type": "stream",
     "text": [
      "[('X',), ('a', 'b'), ('a', 'b', 'c'), 'd']\n"
     ]
    }
   ],
   "source": [
    "def cleanmaster(lista_tuplas):\n",
    "    # Crear una nueva lista con las tuplas no vacías\n",
    "    nueva_lista = [tupla for tupla in lista_tuplas if len(tupla) > 0]\n",
    "    return nueva_lista\n",
    "\n",
    "# Ej:\n",
    "lista = [(), (), ('X',), ('a', 'b'), ('a', 'b', 'c'), ('d')]\n",
    "nueva_lista = cleanmaster(lista)\n",
    "print(nueva_lista)\n"
   ]
  },
  {
   "attachments": {},
   "cell_type": "markdown",
   "metadata": {},
   "source": [
    "6. Cree una funci´on en Python que dada una tupla de tuplas con nu´meros, produzca una tupla con el promedio de cada tupla individual. Tomar nota del siguiente ejemplo: Si la tupla de entrada fuera: ((10, 10, 10, 12), (30, 45, 56, 45), (81, 80, 39, 32))\n",
    "El resultado deber´ıa ser: (10.5, 44, 58)\n"
   ]
  },
  {
   "cell_type": "code",
   "execution_count": 28,
   "metadata": {},
   "outputs": [
    {
     "name": "stdout",
     "output_type": "stream",
     "text": [
      "(11.75, 44.0, 58.0)\n"
     ]
    }
   ],
   "source": [
    "def promedio1(tupla_1):\n",
    "    # Crear una lista con los promedios de cada tupla\n",
    "    promedios = [sum(tupla)/len(tupla) for tupla in tupla_1]\n",
    "    # Convertir la lista en una tupla y devolverla\n",
    "    return tuple(promedios)\n",
    "\n",
    "# Ej:\n",
    "tupla = ((10, 10, 15, 12), (30, 45, 56, 45), (81, 80, 39, 32))\n",
    "promedios = promedio1(tupla)\n",
    "print(promedios)\n"
   ]
  },
  {
   "attachments": {},
   "cell_type": "markdown",
   "metadata": {},
   "source": [
    "#7. Escribir un programa que gestione las facturas pendientes de cobro de una empresa. Las facturas se almacenar´an en un diccionario donde la llave de cada factura ser´a el nu´mero de factura (debe utilizar un numero de 4 d´ıgitos) y el valor el coste de la factura. El programa debe preguntar al usuario si quiere an˜adir una nueva factura, pagar una existente o terminar. Si desea an˜adir una nueva factura se preguntar´a por el nu´mero de factura y su coste y se an˜adir´a al diccionario, para confirmar que la factura se ingreso correctamente el programa debe desplegar el diccionario completo. Si se desea pagar una factura se preguntar´a por el nu´mero de factura y se eliminar´a del diccionario. Despu´es de cada operaci´on el programa debe mostrar en pantalla la cantidad cobrada hasta el momento y la cantidad pendiente de cobro. Puede utilizar otras estructuras de datos como apoyo si lo considera necesario."
   ]
  },
  {
   "cell_type": "code",
   "execution_count": 2,
   "metadata": {},
   "outputs": [
    {
     "name": "stdout",
     "output_type": "stream",
     "text": [
      "¿Qué quires hacer?\n",
      "1. Añadir una nueva\n",
      "2. Pagar una  existente\n",
      "3. Salir\n",
      "añadido\n",
      "Facturas pendientes:  {'1234': 45.0}\n",
      "haber:  45.0\n",
      "debe  45.0\n",
      "¿Qué quires hacer?\n",
      "1. Añadir una nueva\n",
      "2. Pagar una  existente\n",
      "3. Salir\n",
      "Opción inválida. Por favor, seleccione una opción válida.\n",
      "haber:  45.0\n",
      "debe  45.0\n",
      "¿Qué quires hacer?\n",
      "1. Añadir una nueva\n",
      "2. Pagar una  existente\n",
      "3. Salir\n",
      "Opción inválida. Por favor, seleccione una opción válida.\n",
      "haber:  45.0\n",
      "debe  45.0\n",
      "¿Qué quires hacer?\n",
      "1. Añadir una nueva\n",
      "2. Pagar una  existente\n",
      "3. Salir\n",
      "Gracias por utilizar el sistema de gestión de facturas.\n"
     ]
    }
   ],
   "source": [
    "INVOICE = {}\n",
    "\n",
    "while True:\n",
    "    print(\"¿Qué quires hacer?\")\n",
    "    print(\"1. Añadir una nueva\")\n",
    "    print(\"2. Pagar una  existente\")\n",
    "    print(\"3. Salir\")\n",
    "    opcion = input(\"Ingrese el número correspondiente: \")\n",
    "\n",
    "    if opcion == \"1\":\n",
    "        num_factura = input(\"Ingrese el número de la nueva factura (4 dígitos): \")\n",
    "        while len(num_factura) != 4 or not num_factura.isdigit():\n",
    "            num_factura = input(\"Ingrese un número válido: \")\n",
    "        coste_factura = float(input(\"Ingrese el valor: \"))\n",
    "        INVOICE[num_factura] = coste_factura\n",
    "        print(\"añadido\")\n",
    "        print(\"Facturas pendientes: \", INVOICE)\n",
    "\n",
    "    elif opcion == \"2\":\n",
    "        num_factura = input(\"Ingrese el número de la factura que desea pagar: \")\n",
    "        while num_factura not in INVOICE.keys():\n",
    "            num_factura = input(\"Ingrese un número válido: \")\n",
    "        coste_factura = INVOICE[num_factura]\n",
    "        del INVOICE[num_factura]\n",
    "        print(\"Pago Recibido\")\n",
    "        print(\"Facturas pendientes de cobro: \", INVOICE)\n",
    "\n",
    "    elif opcion == \"3\":\n",
    "        print(\"Gracias por utilizar el sistema de gestión de facturas.\")\n",
    "        break\n",
    "\n",
    "    else:\n",
    "        print(\"Opción inválida. Por favor, seleccione una opción válida.\")\n",
    "\n",
    "    total_cobrado = sum(INVOICE.values())\n",
    "    print(\"haber: \", total_cobrado)\n",
    "    print(\"debe \", sum(INVOICE.values()))\n"
   ]
  },
  {
   "attachments": {},
   "cell_type": "markdown",
   "metadata": {},
   "source": [
    "#8. Haga una funci´on en Python, que cree un set con todas las cartas de una baraja de Pocker utilizando el siguiente formato: Tipo-Numero. Utilice las letras T para tr´eboles, C para corazones, P para picas y E para espadas. Para los nu´meros utilice la numeraci´on del 1 al\n",
    "13. Por ejemplo E13 - ser´ıa Rey de Espadas, P01 ser´ıa As de Picas, T05 ser´ıa cinco de Tr´eboles."
   ]
  },
  {
   "cell_type": "code",
   "execution_count": 3,
   "metadata": {},
   "outputs": [
    {
     "name": "stdout",
     "output_type": "stream",
     "text": [
      "Conjunto 1:  {'P01', 'T12', 'E03', 'E12', 'P10', 'E01', 'C06', 'P04', 'C11', 'C03', 'C01', 'C04', 'E05', 'P03'}\n",
      "Conjunto 2:  {'C10', 'E12', 'P11', 'C12', 'T03', 'P05', 'T01', 'C02', 'E11', 'T05', 'E06', 'P07', 'T07', 'T06', 'C11', 'C04', 'E04', 'P03', 'T04', 'P10', 'P12', 'T02', 'C06', 'C03', 'E03', 'C05', 'C09', 'T08', 'C01'}\n",
      "Probabilidad de la intersección:  18.642857142857146\n",
      "¿Los eventos son independientes?  False\n",
      "Probabilidad de la unión:  0.7083333333333334\n",
      "¿Se cumple la regla de la adición?  True\n"
     ]
    },
    {
     "name": "stderr",
     "output_type": "stream",
     "text": [
      "C:\\Users\\halej\\AppData\\Local\\Temp\\ipykernel_2052\\3700605024.py:15: DeprecationWarning: Sampling from a set deprecated\n",
      "since Python 3.9 and will be removed in a subsequent version.\n",
      "  conjunto1 = set(random.sample(baraja, n1))\n",
      "C:\\Users\\halej\\AppData\\Local\\Temp\\ipykernel_2052\\3700605024.py:16: DeprecationWarning: Sampling from a set deprecated\n",
      "since Python 3.9 and will be removed in a subsequent version.\n",
      "  conjunto2 = set(random.sample(baraja, n2))\n"
     ]
    }
   ],
   "source": [
    "import random\n",
    "\n",
    "def crear_baraja():\n",
    "    baraja = set()\n",
    "    tipos = [\"T\", \"C\", \"P\", \"E\"]\n",
    "    for tipo in tipos:\n",
    "        for numero in range(1, 13):\n",
    "            carta = tipo + str(numero).zfill(2)\n",
    "            baraja.add(carta)\n",
    "    return baraja\n",
    "\n",
    "def crear_conjuntos(baraja):\n",
    "    n1 = random.randint(1, len(baraja))\n",
    "    n2 = random.randint(1, len(baraja))\n",
    "    conjunto1 = set(random.sample(baraja, n1))\n",
    "    conjunto2 = set(random.sample(baraja, n2))\n",
    "    return conjunto1, conjunto2\n",
    "\n",
    "def probabilidad_interseccion(conjunto1, conjunto2):\n",
    "    interseccion = conjunto1.intersection(conjunto2)\n",
    "    prob_interseccion = len(interseccion) / len(conjunto1) * len(conjunto2)\n",
    "    return prob_interseccion\n",
    "\n",
    "def eventos_independientes(conjunto1, conjunto2):\n",
    "    prob_conjunto1 = len(conjunto1) / len(crear_baraja())\n",
    "    prob_conjunto2 = len(conjunto2) / len(crear_baraja())\n",
    "    prob_interseccion = probabilidad_interseccion(conjunto1, conjunto2)\n",
    "    return prob_conjunto1 * prob_conjunto2 == prob_interseccion\n",
    "\n",
    "def probabilidad_union(conjunto1, conjunto2):\n",
    "    union = conjunto1.union(conjunto2)\n",
    "    prob_union = len(union) / len(crear_baraja())\n",
    "    return prob_union\n",
    "\n",
    "baraja = crear_baraja()\n",
    "conjunto1, conjunto2 = crear_conjuntos(baraja)\n",
    "print(\"Conjunto 1: \", conjunto1)\n",
    "print(\"Conjunto 2: \", conjunto2)\n",
    "\n",
    "prob_interseccion = probabilidad_interseccion(conjunto1, conjunto2)\n",
    "print(\"Probabilidad de la intersección: \", prob_interseccion)\n",
    "\n",
    "independientes = eventos_independientes(conjunto1, conjunto2)\n",
    "print(\"¿Los eventos son independientes? \", independientes)\n",
    "\n",
    "prob_union = probabilidad_union(conjunto1, conjunto2)\n",
    "print(\"Probabilidad de la unión: \", prob_union)\n",
    "print(\"¿Se cumple la regla de la adición? \", prob_union == len(conjunto1.union(conjunto2)) / len(baraja))\n"
   ]
  }
 ],
 "metadata": {
  "kernelspec": {
   "display_name": "base",
   "language": "python",
   "name": "python3"
  },
  "language_info": {
   "codemirror_mode": {
    "name": "ipython",
    "version": 3
   },
   "file_extension": ".py",
   "mimetype": "text/x-python",
   "name": "python",
   "nbconvert_exporter": "python",
   "pygments_lexer": "ipython3",
   "version": "3.9.13"
  },
  "orig_nbformat": 4,
  "vscode": {
   "interpreter": {
    "hash": "ad2bdc8ecc057115af97d19610ffacc2b4e99fae6737bb82f5d7fb13d2f2c186"
   }
  }
 },
 "nbformat": 4,
 "nbformat_minor": 2
}
